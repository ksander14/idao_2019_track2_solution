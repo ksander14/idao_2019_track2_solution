{
 "cells": [
  {
   "cell_type": "code",
   "execution_count": 1,
   "metadata": {},
   "outputs": [],
   "source": [
    "import pandas as pd\n",
    "import numpy as np\n",
    "import xgboost\n",
    "import utils\n",
    "import pickle"
   ]
  },
  {
   "cell_type": "code",
   "execution_count": 32,
   "metadata": {},
   "outputs": [
    {
     "name": "stdout",
     "output_type": "stream",
     "text": [
      "0.23.4\n",
      "1.14.0\n",
      "0.7.post4\n",
      "4.0\n"
     ]
    }
   ],
   "source": [
    "#Версии модулей при обучении и сохранении модели\n",
    "# pandas 0.23.4\n",
    "# numpy 1.14.0\n",
    "# xgboost 0.7.post4\n",
    "# pickle 4.0\n",
    "print(pd.__version__)\n",
    "print(np.__version__)\n",
    "print(xgboost.__version__)\n",
    "print(pickle.format_version)"
   ]
  },
  {
   "cell_type": "code",
   "execution_count": 2,
   "metadata": {},
   "outputs": [],
   "source": [
    "def open_data():\n",
    "    data = pd.read_csv('train_part_1_v2.csv.gz', compression='gzip',\n",
    "                        error_bad_lines=False)\n",
    "    data2 = pd.read_csv('train_part_2_v2.csv.gz', compression='gzip',\n",
    "                        error_bad_lines=False)\n",
    "    train = pd.concat([data, data2], axis=0).reset_index(drop=True)\n",
    "    test = pd.read_csv('test_public_v2.csv.gz', compression='gzip',\n",
    "                        error_bad_lines=False)\n",
    "    return train, test\n",
    "\n",
    "train, test = open_data()\n"
   ]
  },
  {
   "cell_type": "code",
   "execution_count": 3,
   "metadata": {},
   "outputs": [],
   "source": [
    "BASE_FEATURES_SET = ['PT', 'P', 'NShared', \n",
    "                     'ncl[0]', 'ncl[1]', 'ncl[2]', 'ncl[3]', \n",
    "                     'MatchedHit_DX[1]', 'MatchedHit_DX[2]', 'MatchedHit_DX[3]', \n",
    "                     'Mextra_DX2[3]', 'MatchedHit_Y[0]']\n",
    "ADDITIONAL_FEATURES_SET = ['MatchedHit_X[0]', 'MatchedHit_X[1]', 'MatchedHit_X[2]', 'MatchedHit_X[3]',\n",
    "                           'MatchedHit_Y[1]', 'MatchedHit_Y[2]', 'MatchedHit_Y[3]',\n",
    "                           'Lextra_X[0]', 'Lextra_X[1]', 'Lextra_X[2]', 'Lextra_X[3]',\n",
    "                           'Lextra_Y[0]', 'Lextra_Y[1]', 'Lextra_Y[2]', 'Lextra_Y[3]']\n",
    "GEN_FEATURES_SET = ['distx0', 'distx1', 'distx2', 'distx3', 'disty0', 'disty1', 'disty2', 'disty3',\n",
    "                    'Numcrossed'\n",
    "                   ]\n",
    "\n",
    "FULL_FEATURES_SET = BASE_FEATURES_SET + GEN_FEATURES_SET\n",
    "READ_FEATURES_SET = BASE_FEATURES_SET + ADDITIONAL_FEATURES_SET"
   ]
  },
  {
   "cell_type": "code",
   "execution_count": 4,
   "metadata": {},
   "outputs": [],
   "source": [
    "train['Numcrossed'] = train[['MatchedHit_TYPE[0]',\n",
    "                                      'MatchedHit_TYPE[1]',\n",
    "                                      'MatchedHit_TYPE[2]',\n",
    "                                      'MatchedHit_TYPE[3]']].sum(axis=1)/2\n",
    "train['distx0'] = (train['MatchedHit_X[0]'] - train['Lextra_X[0]']) ** 2\n",
    "train['distx1'] = (train['MatchedHit_X[1]'] - train['Lextra_X[1]']) ** 2\n",
    "train['distx2'] = (train['MatchedHit_X[2]'] - train['Lextra_X[2]']) ** 2\n",
    "train['distx3'] = (train['MatchedHit_X[3]'] - train['Lextra_X[3]']) ** 2\n",
    "train['disty0'] = (train['MatchedHit_Y[0]'] - train['Lextra_Y[0]']) ** 2\n",
    "train['disty1'] = (train['MatchedHit_Y[1]'] - train['Lextra_Y[1]']) ** 2\n",
    "train['disty2'] = (train['MatchedHit_Y[2]'] - train['Lextra_Y[2]']) ** 2\n",
    "train['disty3'] = (train['MatchedHit_Y[3]'] - train['Lextra_Y[3]']) ** 2"
   ]
  },
  {
   "cell_type": "code",
   "execution_count": 13,
   "metadata": {},
   "outputs": [],
   "source": [
    "test['Numcrossed'] = test[['MatchedHit_TYPE[0]',\n",
    "                                      'MatchedHit_TYPE[1]',\n",
    "                                      'MatchedHit_TYPE[2]',\n",
    "                                      'MatchedHit_TYPE[3]']].sum(axis=1)/2\n",
    "test['distx0'] = (test['MatchedHit_X[0]'] - test['Lextra_X[0]']) ** 2\n",
    "test['distx1'] = (test['MatchedHit_X[1]'] - test['Lextra_X[1]']) ** 2\n",
    "test['distx2'] = (test['MatchedHit_X[2]'] - test['Lextra_X[2]']) ** 2\n",
    "test['distx3'] = (test['MatchedHit_X[3]'] - test['Lextra_X[3]']) ** 2\n",
    "test['disty0'] = (test['MatchedHit_Y[0]'] - test['Lextra_Y[0]']) ** 2\n",
    "test['disty1'] = (test['MatchedHit_Y[1]'] - test['Lextra_Y[1]']) ** 2\n",
    "test['disty2'] = (test['MatchedHit_Y[2]'] - test['Lextra_Y[2]']) ** 2\n",
    "test['disty3'] = (test['MatchedHit_Y[3]'] - test['Lextra_Y[3]']) ** 2"
   ]
  },
  {
   "cell_type": "code",
   "execution_count": 5,
   "metadata": {},
   "outputs": [],
   "source": [
    "model_track_2 = xgboost.XGBClassifier(n_estimators=100, max_depth=7, n_jobs=1).fit(\n",
    "    train.loc[:, FULL_FEATURES_SET].values, train.label, sample_weight=train.weight)\n"
   ]
  },
  {
   "cell_type": "code",
   "execution_count": 6,
   "metadata": {},
   "outputs": [
    {
     "data": {
      "text/plain": [
       "XGBClassifier(base_score=0.5, booster='gbtree', colsample_bylevel=1,\n",
       "       colsample_bytree=1, gamma=0, learning_rate=0.1, max_delta_step=0,\n",
       "       max_depth=7, min_child_weight=1, missing=None, n_estimators=100,\n",
       "       n_jobs=1, nthread=None, objective='binary:logistic', random_state=0,\n",
       "       reg_alpha=0, reg_lambda=1, scale_pos_weight=1, seed=None,\n",
       "       silent=True, subsample=1)"
      ]
     },
     "execution_count": 6,
     "metadata": {},
     "output_type": "execute_result"
    }
   ],
   "source": [
    "model_track_2"
   ]
  },
  {
   "cell_type": "code",
   "execution_count": null,
   "metadata": {},
   "outputs": [],
   "source": [
    "filename = 'model_Num.pickle'\n",
    "pickle.dump(model_track_2, open(filename, 'wb'))"
   ]
  },
  {
   "cell_type": "code",
   "execution_count": null,
   "metadata": {},
   "outputs": [],
   "source": []
  }
 ],
 "metadata": {
  "kernelspec": {
   "display_name": "Python 3",
   "language": "python",
   "name": "python3"
  },
  "language_info": {
   "codemirror_mode": {
    "name": "ipython",
    "version": 3
   },
   "file_extension": ".py",
   "mimetype": "text/x-python",
   "name": "python",
   "nbconvert_exporter": "python",
   "pygments_lexer": "ipython3",
   "version": "3.6.4"
  }
 },
 "nbformat": 4,
 "nbformat_minor": 2
}
